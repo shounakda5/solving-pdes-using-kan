{
 "cells": [
  {
   "cell_type": "code",
   "execution_count": 1,
   "metadata": {},
   "outputs": [
    {
     "name": "stdout",
     "output_type": "stream",
     "text": [
      "Requirement already satisfied: tabulate in c:\\users\\shoun\\appdata\\local\\programs\\python\\python312\\lib\\site-packages (0.9.0)\n",
      "Note: you may need to restart the kernel to use updated packages.\n"
     ]
    },
    {
     "name": "stderr",
     "output_type": "stream",
     "text": [
      "\n",
      "[notice] A new release of pip is available: 24.1.2 -> 24.2\n",
      "[notice] To update, run: python.exe -m pip install --upgrade pip\n"
     ]
    },
    {
     "name": "stdout",
     "output_type": "stream",
     "text": [
      "Requirement already satisfied: pandas in c:\\users\\shoun\\appdata\\local\\programs\\python\\python312\\lib\\site-packages (2.2.1)\n",
      "Requirement already satisfied: numpy<2,>=1.26.0 in c:\\users\\shoun\\appdata\\local\\programs\\python\\python312\\lib\\site-packages (from pandas) (1.26.4)\n",
      "Requirement already satisfied: python-dateutil>=2.8.2 in c:\\users\\shoun\\appdata\\roaming\\python\\python312\\site-packages (from pandas) (2.8.2)\n",
      "Requirement already satisfied: pytz>=2020.1 in c:\\users\\shoun\\appdata\\local\\programs\\python\\python312\\lib\\site-packages (from pandas) (2024.1)\n",
      "Requirement already satisfied: tzdata>=2022.7 in c:\\users\\shoun\\appdata\\local\\programs\\python\\python312\\lib\\site-packages (from pandas) (2024.1)\n",
      "Requirement already satisfied: six>=1.5 in c:\\users\\shoun\\appdata\\roaming\\python\\python312\\site-packages (from python-dateutil>=2.8.2->pandas) (1.16.0)\n",
      "Note: you may need to restart the kernel to use updated packages.\n"
     ]
    },
    {
     "name": "stderr",
     "output_type": "stream",
     "text": [
      "\n",
      "[notice] A new release of pip is available: 24.1.2 -> 24.2\n",
      "[notice] To update, run: python.exe -m pip install --upgrade pip\n"
     ]
    }
   ],
   "source": [
    "%pip install tabulate\n",
    "%pip install pandas"
   ]
  },
  {
   "cell_type": "code",
   "execution_count": 1,
   "metadata": {},
   "outputs": [],
   "source": [
    "import json\n",
    "import pandas as pd\n",
    "from tabulate import tabulate\n",
    "from PIL import Image\n",
    "import os"
   ]
  },
  {
   "cell_type": "code",
   "execution_count": 2,
   "metadata": {},
   "outputs": [
    {
     "name": "stdout",
     "output_type": "stream",
     "text": [
      "+----+------------------+-------------------+----------------+------------+---------------------------+---------------------------------+-----------------------------------+\n",
      "|    | Model Shape      |   Input Dimension |   Epochs/Steps |   L-p Loss |   Final Interior PDE Loss |   Final Boundary Condition Loss | Runtime Duration                  |\n",
      "+====+==================+===================+================+============+===========================+=================================+===================================+\n",
      "|  0 | [4, 10, 10, 1]   |                 3 |             20 |          2 |                  0.013799 |                      0.00240016 | 1.0 mins 32.138319969177246 secs  |\n",
      "+----+------------------+-------------------+----------------+------------+---------------------------+---------------------------------+-----------------------------------+\n",
      "|  1 | [4, 10, 10, 1]   |                 3 |             20 |        inf |                  1.45159  |                      0.983086   | 1.0 mins 56.164366722106934 secs  |\n",
      "+----+------------------+-------------------+----------------+------------+---------------------------+---------------------------------+-----------------------------------+\n",
      "|  2 | [101, 10, 10, 1] |               100 |             20 |          2 |                 69.1749   |                      5.61025    | 11.0 mins 36.233399868011475 secs |\n",
      "+----+------------------+-------------------+----------------+------------+---------------------------+---------------------------------+-----------------------------------+\n",
      "|  3 | [101, 10, 10, 1] |               100 |             20 |        inf |                  7.66128  |                      9.43938    | 9.0 mins 28.161552906036377 secs  |\n",
      "+----+------------------+-------------------+----------------+------------+---------------------------+---------------------------------+-----------------------------------+\n",
      "|  4 | [101, 10, 10, 1] |               100 |           1000 |        inf |                 16.3861   |                      0.620663   | 275.0 mins 59.39868879318237 secs |\n",
      "+----+------------------+-------------------+----------------+------------+---------------------------+---------------------------------+-----------------------------------+\n"
     ]
    }
   ],
   "source": [
    "# Define the folder and file path\n",
    "folder_path = \"data\"\n",
    "file_path = os.path.join(folder_path, \"data.json\")\n",
    "\n",
    "# Load the JSON data\n",
    "with open(file_path, \"r\") as file:\n",
    "    data_list = json.load(file)\n",
    "\n",
    "# Convert the list of dictionaries to a pandas DataFrame\n",
    "df = pd.DataFrame(data_list)\n",
    "\n",
    "# Display the DataFrame using tabulate\n",
    "print(tabulate(df, headers='keys', tablefmt='grid'))"
   ]
  },
  {
   "cell_type": "code",
   "execution_count": 4,
   "metadata": {},
   "outputs": [],
   "source": [
    "# Define the path to the training_plots folder\n",
    "training_plots_folder = \"training_plots\"  # Adjust the path as needed\n",
    "\n",
    "# Get a list of all JPEG files in the training_plots folder\n",
    "image_files = [f for f in os.listdir(training_plots_folder) if f.endswith('.jpeg')]\n",
    "\n",
    "# Initialize an empty list to store the individual images\n",
    "images = []\n",
    "\n",
    "# Load each image and append it to the list\n",
    "for image_file in image_files:\n",
    "    image_path = os.path.join(training_plots_folder, image_file)\n",
    "    image = Image.open(image_path)\n",
    "    images.append(image)\n",
    "\n",
    "# Calculate the total height of the final combined image\n",
    "total_height = sum(image.height for image in images)\n",
    "max_width = max(image.width for image in images)\n",
    "\n",
    "# Create a new blank image with the total height and maximum width\n",
    "combined_image = Image.new('RGB', (max_width, total_height))\n",
    "\n",
    "# Paste each image below the previous one\n",
    "y_offset = 0\n",
    "for image in images:\n",
    "    combined_image.paste(image, (0, y_offset))\n",
    "    y_offset += image.height\n",
    "\n",
    "# Display the final combined image in the notebook\n",
    "combined_image.show()\n",
    "\n",
    "# Optionally, you can save the combined image\n",
    "combined_image.save(os.path.join(training_plots_folder, 'combined_image.jpeg'))\n"
   ]
  },
  {
   "cell_type": "code",
   "execution_count": null,
   "metadata": {},
   "outputs": [],
   "source": []
  }
 ],
 "metadata": {
  "kernelspec": {
   "display_name": "Python 3",
   "language": "python",
   "name": "python3"
  },
  "language_info": {
   "codemirror_mode": {
    "name": "ipython",
    "version": 3
   },
   "file_extension": ".py",
   "mimetype": "text/x-python",
   "name": "python",
   "nbconvert_exporter": "python",
   "pygments_lexer": "ipython3",
   "version": "3.12.1"
  }
 },
 "nbformat": 4,
 "nbformat_minor": 2
}
